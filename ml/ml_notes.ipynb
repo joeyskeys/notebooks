{
 "cells": [
  {
   "cell_type": "markdown",
   "metadata": {},
   "source": [
    "### supervised learning:\n",
    "\n",
    "samples with tags or answers, used for pattern matching, predicting\n",
    "\n",
    "### unsupervised learning:\n",
    "\n",
    "samples without tags or answers, used for categorying\n",
    "\n",
    "### Termilogies:\n",
    "\n",
    "  - Hypothesis function:\n",
    " $$H_\\theta = \\theta_0 + \\theta_1 x$$ (as an example linear model)\n",
    "\n",
    "        The main function of machine learning algorithm, a linear function model is called linear regression.\n",
    "        \n",
    "        \n",
    "  - Cost function:\n",
    "$$J_\\theta(\\theta_0, \\theta_1) = \\frac{1}{2m} \\sum_{i=1}^m (h_\\theta(x^{(i)}) - y^{(i)})^2$$\n",
    "\n",
    "        Looks kinda like variance. The goal is to minimize J\n",
    "      \n",
    "      \n",
    "  - Gradient descent:\n",
    "      \n",
    "      An algorithm to find the minimum J, can have more general applications.\n",
    "      \n",
    "      pseudocode:\n",
    "\n",
    "      while not convergent:\n",
    "$$\\theta_j = \\theta_j - \\alpha \\frac{\\partial}{\\partial\\theta_j} J(\\theta_0, \\theta_1)$$\n",
    "     (for j = 0 and j = 1)\n",
    "\n",
    "    alpha means the learning rate here, basically means how large step you need to take while proceed the gradience."
   ]
  },
  {
   "cell_type": "code",
   "execution_count": null,
   "metadata": {},
   "outputs": [],
   "source": []
  }
 ],
 "metadata": {
  "kernelspec": {
   "display_name": "Python 3",
   "language": "python",
   "name": "python3"
  },
  "language_info": {
   "codemirror_mode": {
    "name": "ipython",
    "version": 3
   },
   "file_extension": ".py",
   "mimetype": "text/x-python",
   "name": "python",
   "nbconvert_exporter": "python",
   "pygments_lexer": "ipython3",
   "version": "3.8.5"
  }
 },
 "nbformat": 4,
 "nbformat_minor": 4
}
